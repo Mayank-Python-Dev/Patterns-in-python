{
 "cells": [
  {
   "cell_type": "code",
   "execution_count": 289,
   "id": "3a77135c",
   "metadata": {},
   "outputs": [
    {
     "name": "stdout",
     "output_type": "stream",
     "text": [
      "* * * * * * * \n",
      " * * * * * * \n",
      "  * * * * * \n",
      "   * * * * \n",
      "    * * * \n",
      "     * * \n",
      "      * \n",
      "       "
     ]
    }
   ],
   "source": [
    "def pyramid_1(total_row):\n",
    "    increment = 1    \n",
    "    for row in range(total_row,0,-1):\n",
    "        for col in range(row):\n",
    "            print(\"* \",end = \"\")\n",
    "        print()\n",
    "        for col_space in range(increment):\n",
    "            print(\" \",end=\"\")\n",
    "        increment+=1\n",
    "        \n",
    "pyramid_1(7)"
   ]
  },
  {
   "cell_type": "code",
   "execution_count": 17,
   "id": "f53dc609",
   "metadata": {},
   "outputs": [
    {
     "name": "stdout",
     "output_type": "stream",
     "text": [
      "     * \n",
      "    * * \n",
      "   * * * \n",
      "  * * * * \n",
      " * * * * * \n"
     ]
    }
   ],
   "source": [
    "def pyramid_2(total_row):\n",
    "    increment = 1\n",
    "    for row in range(total_row,0,-1):\n",
    "        for col in range(row):\n",
    "            print(\" \",end=\"\")\n",
    "        for col_star in range(increment):\n",
    "            print(\"* \",end=\"\")\n",
    "        print()\n",
    "        increment+=1\n",
    "pyramid_2(5)"
   ]
  },
  {
   "cell_type": "code",
   "execution_count": 32,
   "id": "b57d1e59",
   "metadata": {},
   "outputs": [
    {
     "name": "stdout",
     "output_type": "stream",
     "text": [
      "\n",
      "* \n",
      "* * \n",
      "* * * \n",
      "* * * * \n",
      "* * * * * \n",
      "* * * * \n",
      "* * * \n",
      "* * \n",
      "* \n"
     ]
    }
   ],
   "source": [
    "def pyramid_3(total_row):\n",
    "    for i in range(2*total_row):\n",
    "        if i > total_row:\n",
    "            x = 2*total_row - i\n",
    "        else:\n",
    "            x = i\n",
    "        for j in range(x):\n",
    "            print(\"* \",end = \"\")\n",
    "        print()\n",
    "        \n",
    "pyramid_3(5)"
   ]
  },
  {
   "cell_type": "code",
   "execution_count": 33,
   "id": "a79fb92e",
   "metadata": {},
   "outputs": [],
   "source": [
    "def pyramid_4(total_row):\n",
    "    pass\n",
    "        \n",
    "            \n",
    "pyramid_4(5)"
   ]
  },
  {
   "cell_type": "code",
   "execution_count": 39,
   "id": "f4f04d1c",
   "metadata": {},
   "outputs": [
    {
     "name": "stdout",
     "output_type": "stream",
     "text": [
      "     \n",
      "    * \n",
      "   * * \n",
      "  * * * \n",
      " * * * * \n",
      "* * * * * \n",
      " * * * * \n",
      "  * * * \n",
      "   * * \n",
      "    * \n"
     ]
    }
   ],
   "source": [
    "def pyramid_5(total_row):\n",
    "    for i in range(2*total_row):\n",
    "        if i > total_row:\n",
    "            x = 2 * total_row - i\n",
    "        else:\n",
    "            x = i\n",
    "        arg = total_row - x\n",
    "        for j in range(arg):\n",
    "            print(\" \",end = \"\")\n",
    "        \n",
    "        for u in range(x):\n",
    "            print(\"* \",end = \"\")\n",
    "        print()\n",
    "pyramid_5(5)"
   ]
  },
  {
   "cell_type": "code",
   "execution_count": 90,
   "id": "605778bd",
   "metadata": {},
   "outputs": [
    {
     "name": "stdout",
     "output_type": "stream",
     "text": [
      "      1\n",
      "     212\n",
      "    32123\n",
      "   4321234\n",
      "  543212345\n",
      " 65432123456\n"
     ]
    }
   ],
   "source": [
    "def pattern(x):\n",
    "    for i in range(1,x):\n",
    "        y = x - i\n",
    "        for j in range(y):\n",
    "            print(\" \",end = \"\")\n",
    "        for u in range(i,0,-1):\n",
    "            print(u ,end=\"\")\n",
    "        for j in range(1,i):\n",
    "            print(j+1 ,end = \"\")\n",
    "        print()\n",
    "pattern(7)"
   ]
  },
  {
   "cell_type": "code",
   "execution_count": 156,
   "id": "5a5e0555",
   "metadata": {},
   "outputs": [
    {
     "name": "stdout",
     "output_type": "stream",
     "text": [
      "   1\n",
      "  212\n",
      " 32123\n",
      "4321234\n",
      " 32123\n",
      "  212\n",
      "   1\n"
     ]
    }
   ],
   "source": [
    "def pattern1(x):\n",
    "    for r in range(1,2*x):\n",
    "        if r > x:\n",
    "            gap = 2 * x - r\n",
    "        else:\n",
    "            gap = r\n",
    "        space = x - gap\n",
    "        for i in range(space):\n",
    "            print(\" \",end=\"\")\n",
    "        for j in range(gap,0,-1):\n",
    "            print(j , end = \"\")\n",
    "        for u in range(1,gap):\n",
    "            print(u+1 , end=\"\")\n",
    "        print()\n",
    "pattern1(4)"
   ]
  },
  {
   "cell_type": "code",
   "execution_count": null,
   "id": "90d4eaa7",
   "metadata": {},
   "outputs": [],
   "source": []
  },
  {
   "cell_type": "code",
   "execution_count": 171,
   "id": "06187482",
   "metadata": {},
   "outputs": [
    {
     "name": "stdout",
     "output_type": "stream",
     "text": [
      "    1\n",
      "   212\n",
      "  32123\n",
      " 4321234\n",
      "543212345\n",
      " 4321234\n",
      "  32123\n",
      "   212\n",
      "    1\n"
     ]
    }
   ],
   "source": [
    "def diamond(row):\n",
    "    for i in range(1,2*row):\n",
    "        if i > row:\n",
    "            gap = 2*row - i\n",
    "        else:\n",
    "            gap = i\n",
    "        space = row - gap\n",
    "        for j in range(space):\n",
    "            print(\" \",end = \"\")\n",
    "        for u in range(gap,0,-1):\n",
    "            print(u ,end= \"\")\n",
    "        for p in range(1,gap):\n",
    "            print(p+1 ,end=\"\")\n",
    "        print()\n",
    "diamond(5)"
   ]
  },
  {
   "cell_type": "code",
   "execution_count": 335,
   "id": "504ee0fb",
   "metadata": {},
   "outputs": [
    {
     "name": "stdout",
     "output_type": "stream",
     "text": [
      "     \n",
      "    0 \n",
      "   0 1 \n",
      "  0 1 2 \n",
      " 0 1 2 3 \n",
      "0 1 2 3 4 \n",
      " 0 1 2 3 \n",
      "  0 1 2 \n",
      "   0 1 \n",
      "    0 \n"
     ]
    }
   ],
   "source": [
    "def printing(row):\n",
    "    for i in range(row,1,-1):\n",
    "        for j in range(1,i):\n",
    "            print(\" \",end = \"\")\n",
    "        for z in range()\n",
    "                \n",
    "printing(5)"
   ]
  },
  {
   "cell_type": "code",
   "execution_count": 72,
   "id": "e19dc11e",
   "metadata": {},
   "outputs": [
    {
     "name": "stdout",
     "output_type": "stream",
     "text": [
      "                A   \n",
      "            100 99 \n",
      "        B   C   D   E   F   G   \n",
      "    98 97 96 95 94 93 92 91 90 \n",
      "H   I   J   K   L   M   N   O   P   Q   R   S   T   U   V   \n"
     ]
    }
   ],
   "source": [
    "def even_pattern(x):\n",
    "    var = 0\n",
    "    st = 'ABCDEFGHIJKLMNO'\n",
    "    no = 64\n",
    "    number = 100\n",
    "    for i in range(1,x):\n",
    "        new_col = x - i\n",
    "        for j in range(1,2*new_col-1):\n",
    "            print(\" \",end=\" \")\n",
    "        var +=i\n",
    "        if i % 2 != 0:\n",
    "            for u in range(var):\n",
    "                no+=1\n",
    "                print(chr(no) , end = \"   \")\n",
    "            print()\n",
    "        else:\n",
    "            for u in range(var-1):\n",
    "                print(number , end=\" \")\n",
    "                number-=1\n",
    "            print()\n",
    "        \n",
    "            \n",
    "        \n",
    "even_pattern(6)"
   ]
  },
  {
   "cell_type": "code",
   "execution_count": null,
   "id": "4c3c6bc4",
   "metadata": {},
   "outputs": [],
   "source": []
  },
  {
   "cell_type": "code",
   "execution_count": null,
   "id": "03f52eb4",
   "metadata": {},
   "outputs": [],
   "source": []
  },
  {
   "cell_type": "code",
   "execution_count": null,
   "id": "b275fbba",
   "metadata": {},
   "outputs": [],
   "source": []
  },
  {
   "cell_type": "code",
   "execution_count": null,
   "id": "ef419814",
   "metadata": {},
   "outputs": [],
   "source": []
  }
 ],
 "metadata": {
  "kernelspec": {
   "display_name": "Python 3",
   "language": "python",
   "name": "python3"
  },
  "language_info": {
   "codemirror_mode": {
    "name": "ipython",
    "version": 3
   },
   "file_extension": ".py",
   "mimetype": "text/x-python",
   "name": "python",
   "nbconvert_exporter": "python",
   "pygments_lexer": "ipython3",
   "version": "3.8.8"
  }
 },
 "nbformat": 4,
 "nbformat_minor": 5
}
